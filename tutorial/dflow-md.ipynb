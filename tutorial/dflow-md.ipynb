{
 "cells": [
  {
   "cell_type": "markdown",
   "metadata": {},
   "source": [
    "# Task\n",
    "We want to achieve the following workflow:\n",
    "\n",
    "1. Do structure MD relaxation\n",
    "2. Heating to targeted temperature (bulk: NPT, particle: NVT)\n",
    "3. Stablization with NVE. If the sample has a slab geometry, add vaccum in z direction for bulk structure. \n",
    "4. Run MD at thermal equilibirium (NVT)"
   ]
  },
  {
   "cell_type": "code",
   "execution_count": 1,
   "metadata": {},
   "outputs": [],
   "source": [
    "# for deepmd potential use only\n",
    "element_map={\"Mg\":0, \"Al\":1,\"Cu\":2}\n",
    "# for EAM potential use only\n",
    "element_map={'Al':0}"
   ]
  },
  {
   "cell_type": "code",
   "execution_count": 2,
   "metadata": {},
   "outputs": [],
   "source": [
    "from deepmdem.lammps import MDRelax,MDHeating,MDStabilization,MDEquilibrium\n",
    "from dflow import Step, Workflow, download_artifact, upload_artifact\n",
    "from dflow.python import (OP, OPIO, Artifact, OPIOSign, PythonOPTemplate,\n",
    "                          upload_packages)\n",
    "from typing import List\n",
    "from pathlib import Path\n",
    "from dflow import SlurmRemoteExecutor\n",
    "\n",
    "def remote_slurm(nodes: int):\n",
    "    slurm_remote_executor = SlurmRemoteExecutor(\n",
    "        host=\"host-address\",\n",
    "        port=22,\n",
    "        username=\"username\",\n",
    "        private_key_file=\"path/to/private_key\",\n",
    "        header=f\"#!/bin/bash\\n#SBATCH --account=account\\n#SBATCH --partition=gpu_partition\\n#SBATCH --nodes={nodes}\\n#SBATCH --ntasks-per-node=4\\n#SBATCH --gres=gpu:4\\n#SBATCH --time=2:00:00\\n#SBATCH --job-name=deepmd\\n#SBATCH -e output.err\",\n",
    "        workdir=\"~/myscratch/dflow/workflows/{{workflow.name}}/{{pod.name}}\",\n",
    "    )\n",
    "    return slurm_remote_executor\n",
    "\n",
    "def md_workflow(temp: float,element_map:dict,running_cores: int,nodes: int, add_vacuum:float, potential: Path, input_structure: Path):\n",
    "        step0 = Step(\n",
    "        name=\"Relax\",\n",
    "        template=PythonOPTemplate(MDRelax, command=[\"source ~/dflow.env && python\"]),\n",
    "        parameters={\n",
    "                'pbc':True,\n",
    "                'element_map':element_map,\n",
    "                'potential_type':'deepmd',\n",
    "                \"running_cores\":running_cores\n",
    "        },\n",
    "        artifacts={'atomic_potential':potential,\n",
    "                'structure':input_structure},\n",
    "        executor=remote_slurm(nodes)\n",
    "\n",
    "        )\n",
    "\n",
    "        step1 = Step(\n",
    "        name=\"Heating\",\n",
    "        template=PythonOPTemplate(MDHeating, command=[\"source ~/dflow.env && python\"]),\n",
    "        parameters={'temp': temp,\n",
    "                'nsteps': 10000,\n",
    "                'ensemble':'npt',\n",
    "                'pres':1,\n",
    "                'pbc':True,\n",
    "                'timestep':0.005,\n",
    "                'neidelay':10,\n",
    "                'trj_freq':100,\n",
    "                'element_map':element_map,\n",
    "                'potential_type':'deepmd',\n",
    "                \"running_cores\":running_cores\n",
    "\n",
    "        },\n",
    "        artifacts={'atomic_potential':potential,\n",
    "                'structure':step0.outputs.artifacts[\"out_structure\"]},\n",
    "        executor=remote_slurm(nodes)\n",
    "        )\n",
    "\n",
    "        step2 = Step(\n",
    "        name=\"Stabilization\",\n",
    "        template=PythonOPTemplate(MDStabilization, command=[\"source ~/dflow.env && python\"]),\n",
    "        parameters={'temp': temp,\n",
    "                'nsteps': 5000,\n",
    "                'pbc':True,\n",
    "                'timestep':0.005,\n",
    "                'neidelay':10,\n",
    "                'trj_freq':100,\n",
    "                'pres':1,\n",
    "                'element_map':element_map,\n",
    "                'potential_type':'deepmd',\n",
    "                'add_vacuum':add_vacuum,\n",
    "                \"running_cores\":running_cores\n",
    "\n",
    "        },\n",
    "        artifacts={'atomic_potential':potential,\n",
    "                'structure':step1.outputs.artifacts[\"out_structure\"]},\n",
    "                executor=remote_slurm(nodes)\n",
    "        )\n",
    "\n",
    "        step3 = Step(\n",
    "        name=\"Equilibrium\",\n",
    "        template=PythonOPTemplate(MDEquilibrium, command=[\"source ~/dflow.env && python\"]),\n",
    "        parameters={'temp': temp,\n",
    "                'nsteps': 100000,\n",
    "                'pbc':True,\n",
    "                'timestep':0.005,\n",
    "                'neidelay':10,\n",
    "                'trj_freq':100,\n",
    "                'element_map':element_map,\n",
    "                'potential_type':'deepmd',\n",
    "                \"running_cores\":running_cores\n",
    "                \n",
    "        },\n",
    "        artifacts={'atomic_potential':potential,\n",
    "                'structure':step2.outputs.artifacts[\"out_structure\"]},\n",
    "                executor=remote_slurm(nodes)\n",
    "        )\n",
    "        from dflow import Workflow\n",
    "        wf = Workflow(name=f\"md-{temp}k\")\n",
    "        wf.add(step0)\n",
    "        wf.add(step1)\n",
    "        wf.add(step2)\n",
    "        wf.add(step3)\n",
    "\n",
    "        wf.submit();"
   ]
  },
  {
   "cell_type": "code",
   "execution_count": 3,
   "metadata": {},
   "outputs": [
    {
     "name": "stdout",
     "output_type": "stream",
     "text": [
      "Workflow has been submitted (ID: md-273k-wp2jz)\n"
     ]
    }
   ],
   "source": [
    "upload_packages.append('../deepmdem/')\n",
    "potential=upload_artifact('bulk_Al/MgAlCu_compress.pb')\n",
    "input_structure=upload_artifact('bulk_Al/structure_25c')\n",
    "element_map={\"Mg\":0, \"Al\":1}\n",
    "running_cores = 8 \n",
    "nodes = 2\n",
    "temp_list=[273]\n",
    "for temp in temp_list:\n",
    "    md_workflow(temp=temp,element_map=element_map,running_cores=running_cores,nodes=nodes, potential=potential, input_structure=input_structure,add_vacuum=40.0)"
   ]
  }
 ],
 "metadata": {
  "kernelspec": {
   "display_name": "Python 3.10.5 ('deep')",
   "language": "python",
   "name": "python3"
  },
  "language_info": {
   "codemirror_mode": {
    "name": "ipython",
    "version": 3
   },
   "file_extension": ".py",
   "mimetype": "text/x-python",
   "name": "python",
   "nbconvert_exporter": "python",
   "pygments_lexer": "ipython3",
   "version": "3.10.5"
  },
  "orig_nbformat": 4,
  "vscode": {
   "interpreter": {
    "hash": "f3948a7fd9112cac32210e5d4080429f9cee74e4cf1b0068b96317d60a25fab9"
   }
  }
 },
 "nbformat": 4,
 "nbformat_minor": 2
}
